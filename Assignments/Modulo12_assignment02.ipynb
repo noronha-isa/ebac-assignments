{
 "cells": [
  {
   "cell_type": "markdown",
   "metadata": {},
   "source": [
    "# Regressão 01 - tarefa 02 - transformações em X e Y"
   ]
  },
  {
   "cell_type": "markdown",
   "metadata": {},
   "source": [
    "### 1. Melhorando o ajuste no percentual de gorjetas\n",
    "\n",
    "a. Vamos partir do modelo feito na última tarefa, o que relaciona ```tip_pct``` e ```net_bill```. Carregue a base, os pacotes e reproduza este modelo aqui."
   ]
  },
  {
   "cell_type": "code",
   "execution_count": 24,
   "metadata": {},
   "outputs": [],
   "source": [
    "# Carregando pacotes\n",
    "\n",
    "import pandas as pd\n",
    "import seaborn as sns\n",
    "from seaborn import load_dataset\n",
    "\n",
    "import matplotlib.pyplot as plt\n",
    "\n",
    "import numpy as np\n",
    "\n",
    "import statsmodels.formula.api as smf"
   ]
  },
  {
   "cell_type": "code",
   "execution_count": 25,
   "metadata": {},
   "outputs": [
    {
     "data": {
      "text/html": [
       "<div>\n",
       "<style scoped>\n",
       "    .dataframe tbody tr th:only-of-type {\n",
       "        vertical-align: middle;\n",
       "    }\n",
       "\n",
       "    .dataframe tbody tr th {\n",
       "        vertical-align: top;\n",
       "    }\n",
       "\n",
       "    .dataframe thead th {\n",
       "        text-align: right;\n",
       "    }\n",
       "</style>\n",
       "<table border=\"1\" class=\"dataframe\">\n",
       "  <thead>\n",
       "    <tr style=\"text-align: right;\">\n",
       "      <th></th>\n",
       "      <th>total_bill</th>\n",
       "      <th>tip</th>\n",
       "      <th>sex</th>\n",
       "      <th>smoker</th>\n",
       "      <th>day</th>\n",
       "      <th>time</th>\n",
       "      <th>size</th>\n",
       "      <th>tip_pct</th>\n",
       "      <th>net_bill</th>\n",
       "    </tr>\n",
       "  </thead>\n",
       "  <tbody>\n",
       "    <tr>\n",
       "      <th>73</th>\n",
       "      <td>25.28</td>\n",
       "      <td>5.00</td>\n",
       "      <td>Female</td>\n",
       "      <td>Yes</td>\n",
       "      <td>Sat</td>\n",
       "      <td>Dinner</td>\n",
       "      <td>2</td>\n",
       "      <td>0.246548</td>\n",
       "      <td>20.28</td>\n",
       "    </tr>\n",
       "    <tr>\n",
       "      <th>160</th>\n",
       "      <td>21.50</td>\n",
       "      <td>3.50</td>\n",
       "      <td>Male</td>\n",
       "      <td>No</td>\n",
       "      <td>Sun</td>\n",
       "      <td>Dinner</td>\n",
       "      <td>4</td>\n",
       "      <td>0.194444</td>\n",
       "      <td>18.00</td>\n",
       "    </tr>\n",
       "    <tr>\n",
       "      <th>114</th>\n",
       "      <td>25.71</td>\n",
       "      <td>4.00</td>\n",
       "      <td>Female</td>\n",
       "      <td>No</td>\n",
       "      <td>Sun</td>\n",
       "      <td>Dinner</td>\n",
       "      <td>3</td>\n",
       "      <td>0.184247</td>\n",
       "      <td>21.71</td>\n",
       "    </tr>\n",
       "    <tr>\n",
       "      <th>78</th>\n",
       "      <td>22.76</td>\n",
       "      <td>3.00</td>\n",
       "      <td>Male</td>\n",
       "      <td>No</td>\n",
       "      <td>Thur</td>\n",
       "      <td>Lunch</td>\n",
       "      <td>2</td>\n",
       "      <td>0.151822</td>\n",
       "      <td>19.76</td>\n",
       "    </tr>\n",
       "    <tr>\n",
       "      <th>25</th>\n",
       "      <td>17.81</td>\n",
       "      <td>2.34</td>\n",
       "      <td>Male</td>\n",
       "      <td>No</td>\n",
       "      <td>Sat</td>\n",
       "      <td>Dinner</td>\n",
       "      <td>4</td>\n",
       "      <td>0.151261</td>\n",
       "      <td>15.47</td>\n",
       "    </tr>\n",
       "  </tbody>\n",
       "</table>\n",
       "</div>"
      ],
      "text/plain": [
       "     total_bill   tip     sex smoker   day    time  size   tip_pct  net_bill\n",
       "73        25.28  5.00  Female    Yes   Sat  Dinner     2  0.246548     20.28\n",
       "160       21.50  3.50    Male     No   Sun  Dinner     4  0.194444     18.00\n",
       "114       25.71  4.00  Female     No   Sun  Dinner     3  0.184247     21.71\n",
       "78        22.76  3.00    Male     No  Thur   Lunch     2  0.151822     19.76\n",
       "25        17.81  2.34    Male     No   Sat  Dinner     4  0.151261     15.47"
      ]
     },
     "execution_count": 25,
     "metadata": {},
     "output_type": "execute_result"
    }
   ],
   "source": [
    "# Carregando a base\n",
    "\n",
    "tips = sns.load_dataset(\"tips\")\n",
    "tips['tip_pct'] = tips['tip'] / (tips['total_bill'] - tips['tip'])\n",
    "tips['net_bill'] = tips['total_bill'] - tips['tip']\n",
    "tips.sample(5)"
   ]
  },
  {
   "cell_type": "code",
   "execution_count": 26,
   "metadata": {},
   "outputs": [
    {
     "data": {
      "text/html": [
       "<table class=\"simpletable\">\n",
       "<caption>OLS Regression Results</caption>\n",
       "<tr>\n",
       "  <th>Dep. Variable:</th>         <td>tip_pct</td>     <th>  R-squared:         </th> <td>   0.091</td>\n",
       "</tr>\n",
       "<tr>\n",
       "  <th>Model:</th>                   <td>OLS</td>       <th>  Adj. R-squared:    </th> <td>   0.088</td>\n",
       "</tr>\n",
       "<tr>\n",
       "  <th>Method:</th>             <td>Least Squares</td>  <th>  F-statistic:       </th> <td>   24.31</td>\n",
       "</tr>\n",
       "<tr>\n",
       "  <th>Date:</th>             <td>Mon, 16 Oct 2023</td> <th>  Prob (F-statistic):</th> <td>1.52e-06</td>\n",
       "</tr>\n",
       "<tr>\n",
       "  <th>Time:</th>                 <td>07:27:49</td>     <th>  Log-Likelihood:    </th> <td>  108.00</td>\n",
       "</tr>\n",
       "<tr>\n",
       "  <th>No. Observations:</th>      <td>   244</td>      <th>  AIC:               </th> <td>  -212.0</td>\n",
       "</tr>\n",
       "<tr>\n",
       "  <th>Df Residuals:</th>          <td>   242</td>      <th>  BIC:               </th> <td>  -205.0</td>\n",
       "</tr>\n",
       "<tr>\n",
       "  <th>Df Model:</th>              <td>     1</td>      <th>                     </th>     <td> </td>   \n",
       "</tr>\n",
       "<tr>\n",
       "  <th>Covariance Type:</th>      <td>nonrobust</td>    <th>                     </th>     <td> </td>   \n",
       "</tr>\n",
       "</table>\n",
       "<table class=\"simpletable\">\n",
       "<tr>\n",
       "      <td></td>         <th>coef</th>     <th>std err</th>      <th>t</th>      <th>P>|t|</th>  <th>[0.025</th>    <th>0.975]</th>  \n",
       "</tr>\n",
       "<tr>\n",
       "  <th>Intercept</th> <td>    0.3053</td> <td>    0.023</td> <td>   13.166</td> <td> 0.000</td> <td>    0.260</td> <td>    0.351</td>\n",
       "</tr>\n",
       "<tr>\n",
       "  <th>net_bill</th>  <td>   -0.0061</td> <td>    0.001</td> <td>   -4.931</td> <td> 0.000</td> <td>   -0.009</td> <td>   -0.004</td>\n",
       "</tr>\n",
       "</table>\n",
       "<table class=\"simpletable\">\n",
       "<tr>\n",
       "  <th>Omnibus:</th>       <td>468.674</td> <th>  Durbin-Watson:     </th>  <td>   1.987</td> \n",
       "</tr>\n",
       "<tr>\n",
       "  <th>Prob(Omnibus):</th> <td> 0.000</td>  <th>  Jarque-Bera (JB):  </th> <td>234437.604</td>\n",
       "</tr>\n",
       "<tr>\n",
       "  <th>Skew:</th>          <td>11.104</td>  <th>  Prob(JB):          </th>  <td>    0.00</td> \n",
       "</tr>\n",
       "<tr>\n",
       "  <th>Kurtosis:</th>      <td>153.221</td> <th>  Cond. No.          </th>  <td>    43.3</td> \n",
       "</tr>\n",
       "</table><br/><br/>Notes:<br/>[1] Standard Errors assume that the covariance matrix of the errors is correctly specified."
      ],
      "text/latex": [
       "\\begin{center}\n",
       "\\begin{tabular}{lclc}\n",
       "\\toprule\n",
       "\\textbf{Dep. Variable:}    &     tip\\_pct     & \\textbf{  R-squared:         } &     0.091   \\\\\n",
       "\\textbf{Model:}            &       OLS        & \\textbf{  Adj. R-squared:    } &     0.088   \\\\\n",
       "\\textbf{Method:}           &  Least Squares   & \\textbf{  F-statistic:       } &     24.31   \\\\\n",
       "\\textbf{Date:}             & Mon, 16 Oct 2023 & \\textbf{  Prob (F-statistic):} &  1.52e-06   \\\\\n",
       "\\textbf{Time:}             &     07:27:49     & \\textbf{  Log-Likelihood:    } &    108.00   \\\\\n",
       "\\textbf{No. Observations:} &         244      & \\textbf{  AIC:               } &    -212.0   \\\\\n",
       "\\textbf{Df Residuals:}     &         242      & \\textbf{  BIC:               } &    -205.0   \\\\\n",
       "\\textbf{Df Model:}         &           1      & \\textbf{                     } &             \\\\\n",
       "\\textbf{Covariance Type:}  &    nonrobust     & \\textbf{                     } &             \\\\\n",
       "\\bottomrule\n",
       "\\end{tabular}\n",
       "\\begin{tabular}{lcccccc}\n",
       "                   & \\textbf{coef} & \\textbf{std err} & \\textbf{t} & \\textbf{P$> |$t$|$} & \\textbf{[0.025} & \\textbf{0.975]}  \\\\\n",
       "\\midrule\n",
       "\\textbf{Intercept} &       0.3053  &        0.023     &    13.166  &         0.000        &        0.260    &        0.351     \\\\\n",
       "\\textbf{net\\_bill} &      -0.0061  &        0.001     &    -4.931  &         0.000        &       -0.009    &       -0.004     \\\\\n",
       "\\bottomrule\n",
       "\\end{tabular}\n",
       "\\begin{tabular}{lclc}\n",
       "\\textbf{Omnibus:}       & 468.674 & \\textbf{  Durbin-Watson:     } &     1.987   \\\\\n",
       "\\textbf{Prob(Omnibus):} &   0.000 & \\textbf{  Jarque-Bera (JB):  } & 234437.604  \\\\\n",
       "\\textbf{Skew:}          &  11.104 & \\textbf{  Prob(JB):          } &      0.00   \\\\\n",
       "\\textbf{Kurtosis:}      & 153.221 & \\textbf{  Cond. No.          } &      43.3   \\\\\n",
       "\\bottomrule\n",
       "\\end{tabular}\n",
       "%\\caption{OLS Regression Results}\n",
       "\\end{center}\n",
       "\n",
       "Notes: \\newline\n",
       " [1] Standard Errors assume that the covariance matrix of the errors is correctly specified."
      ],
      "text/plain": [
       "<class 'statsmodels.iolib.summary.Summary'>\n",
       "\"\"\"\n",
       "                            OLS Regression Results                            \n",
       "==============================================================================\n",
       "Dep. Variable:                tip_pct   R-squared:                       0.091\n",
       "Model:                            OLS   Adj. R-squared:                  0.088\n",
       "Method:                 Least Squares   F-statistic:                     24.31\n",
       "Date:                Mon, 16 Oct 2023   Prob (F-statistic):           1.52e-06\n",
       "Time:                        07:27:49   Log-Likelihood:                 108.00\n",
       "No. Observations:                 244   AIC:                            -212.0\n",
       "Df Residuals:                     242   BIC:                            -205.0\n",
       "Df Model:                           1                                         \n",
       "Covariance Type:            nonrobust                                         \n",
       "==============================================================================\n",
       "                 coef    std err          t      P>|t|      [0.025      0.975]\n",
       "------------------------------------------------------------------------------\n",
       "Intercept      0.3053      0.023     13.166      0.000       0.260       0.351\n",
       "net_bill      -0.0061      0.001     -4.931      0.000      -0.009      -0.004\n",
       "==============================================================================\n",
       "Omnibus:                      468.674   Durbin-Watson:                   1.987\n",
       "Prob(Omnibus):                  0.000   Jarque-Bera (JB):           234437.604\n",
       "Skew:                          11.104   Prob(JB):                         0.00\n",
       "Kurtosis:                     153.221   Cond. No.                         43.3\n",
       "==============================================================================\n",
       "\n",
       "Notes:\n",
       "[1] Standard Errors assume that the covariance matrix of the errors is correctly specified.\n",
       "\"\"\""
      ]
     },
     "execution_count": 26,
     "metadata": {},
     "output_type": "execute_result"
    }
   ],
   "source": [
    "# Reproduzindo o modelo do exercício anterior\n",
    "\n",
    "reg2 = smf.ols('tip_pct ~ net_bill', data = tips).fit()\n",
    "reg2.summary()"
   ]
  },
  {
   "cell_type": "code",
   "execution_count": null,
   "metadata": {},
   "outputs": [],
   "source": []
  },
  {
   "cell_type": "markdown",
   "metadata": {},
   "source": [
    "### 2. ajuste o modelo de ```tip_pct``` em função do logaritmo de ```net_bill```."
   ]
  },
  {
   "cell_type": "code",
   "execution_count": 27,
   "metadata": {
    "scrolled": true
   },
   "outputs": [
    {
     "name": "stdout",
     "output_type": "stream",
     "text": [
      "                            OLS Regression Results                            \n",
      "==============================================================================\n",
      "Dep. Variable:                      y   R-squared:                       0.199\n",
      "Model:                            OLS   Adj. R-squared:                  0.196\n",
      "Method:                 Least Squares   F-statistic:                     60.24\n",
      "Date:                Mon, 16 Oct 2023   Prob (F-statistic):           2.35e-13\n",
      "Time:                        07:27:49   Log-Likelihood:                 123.44\n",
      "No. Observations:                 244   AIC:                            -242.9\n",
      "Df Residuals:                     242   BIC:                            -235.9\n",
      "Df Model:                           1                                         \n",
      "Covariance Type:            nonrobust                                         \n",
      "==================================================================================\n",
      "                     coef    std err          t      P>|t|      [0.025      0.975]\n",
      "----------------------------------------------------------------------------------\n",
      "Intercept          0.6204      0.055     11.342      0.000       0.513       0.728\n",
      "np.log(x + .1)    -0.1538      0.020     -7.762      0.000      -0.193      -0.115\n",
      "==============================================================================\n",
      "Omnibus:                      441.700   Durbin-Watson:                   1.965\n",
      "Prob(Omnibus):                  0.000   Jarque-Bera (JB):           173109.880\n",
      "Skew:                           9.884   Prob(JB):                         0.00\n",
      "Kurtosis:                     131.982   Cond. No.                         18.2\n",
      "==============================================================================\n",
      "\n",
      "Notes:\n",
      "[1] Standard Errors assume that the covariance matrix of the errors is correctly specified.\n"
     ]
    },
    {
     "data": {
      "text/html": [
       "<div>\n",
       "<style scoped>\n",
       "    .dataframe tbody tr th:only-of-type {\n",
       "        vertical-align: middle;\n",
       "    }\n",
       "\n",
       "    .dataframe tbody tr th {\n",
       "        vertical-align: top;\n",
       "    }\n",
       "\n",
       "    .dataframe thead th {\n",
       "        text-align: right;\n",
       "    }\n",
       "</style>\n",
       "<table border=\"1\" class=\"dataframe\">\n",
       "  <thead>\n",
       "    <tr style=\"text-align: right;\">\n",
       "      <th></th>\n",
       "      <th>total_bill</th>\n",
       "      <th>tip</th>\n",
       "      <th>sex</th>\n",
       "      <th>smoker</th>\n",
       "      <th>day</th>\n",
       "      <th>time</th>\n",
       "      <th>size</th>\n",
       "      <th>tip_pct</th>\n",
       "      <th>net_bill</th>\n",
       "      <th>res</th>\n",
       "    </tr>\n",
       "  </thead>\n",
       "  <tbody>\n",
       "    <tr>\n",
       "      <th>0</th>\n",
       "      <td>16.99</td>\n",
       "      <td>1.01</td>\n",
       "      <td>Female</td>\n",
       "      <td>No</td>\n",
       "      <td>Sun</td>\n",
       "      <td>Dinner</td>\n",
       "      <td>2</td>\n",
       "      <td>0.063204</td>\n",
       "      <td>15.98</td>\n",
       "      <td>-0.129908</td>\n",
       "    </tr>\n",
       "    <tr>\n",
       "      <th>1</th>\n",
       "      <td>10.34</td>\n",
       "      <td>1.66</td>\n",
       "      <td>Male</td>\n",
       "      <td>No</td>\n",
       "      <td>Sun</td>\n",
       "      <td>Dinner</td>\n",
       "      <td>3</td>\n",
       "      <td>0.191244</td>\n",
       "      <td>8.68</td>\n",
       "      <td>-0.094947</td>\n",
       "    </tr>\n",
       "    <tr>\n",
       "      <th>2</th>\n",
       "      <td>21.01</td>\n",
       "      <td>3.50</td>\n",
       "      <td>Male</td>\n",
       "      <td>No</td>\n",
       "      <td>Sun</td>\n",
       "      <td>Dinner</td>\n",
       "      <td>3</td>\n",
       "      <td>0.199886</td>\n",
       "      <td>17.51</td>\n",
       "      <td>0.020755</td>\n",
       "    </tr>\n",
       "    <tr>\n",
       "      <th>3</th>\n",
       "      <td>23.68</td>\n",
       "      <td>3.31</td>\n",
       "      <td>Male</td>\n",
       "      <td>No</td>\n",
       "      <td>Sun</td>\n",
       "      <td>Dinner</td>\n",
       "      <td>2</td>\n",
       "      <td>0.162494</td>\n",
       "      <td>20.37</td>\n",
       "      <td>0.006512</td>\n",
       "    </tr>\n",
       "    <tr>\n",
       "      <th>4</th>\n",
       "      <td>24.59</td>\n",
       "      <td>3.61</td>\n",
       "      <td>Female</td>\n",
       "      <td>No</td>\n",
       "      <td>Sun</td>\n",
       "      <td>Dinner</td>\n",
       "      <td>4</td>\n",
       "      <td>0.172069</td>\n",
       "      <td>20.98</td>\n",
       "      <td>0.020604</td>\n",
       "    </tr>\n",
       "    <tr>\n",
       "      <th>...</th>\n",
       "      <td>...</td>\n",
       "      <td>...</td>\n",
       "      <td>...</td>\n",
       "      <td>...</td>\n",
       "      <td>...</td>\n",
       "      <td>...</td>\n",
       "      <td>...</td>\n",
       "      <td>...</td>\n",
       "      <td>...</td>\n",
       "      <td>...</td>\n",
       "    </tr>\n",
       "    <tr>\n",
       "      <th>239</th>\n",
       "      <td>29.03</td>\n",
       "      <td>5.92</td>\n",
       "      <td>Male</td>\n",
       "      <td>No</td>\n",
       "      <td>Sat</td>\n",
       "      <td>Dinner</td>\n",
       "      <td>3</td>\n",
       "      <td>0.256166</td>\n",
       "      <td>23.11</td>\n",
       "      <td>0.119509</td>\n",
       "    </tr>\n",
       "    <tr>\n",
       "      <th>240</th>\n",
       "      <td>27.18</td>\n",
       "      <td>2.00</td>\n",
       "      <td>Female</td>\n",
       "      <td>Yes</td>\n",
       "      <td>Sat</td>\n",
       "      <td>Dinner</td>\n",
       "      <td>2</td>\n",
       "      <td>0.079428</td>\n",
       "      <td>25.18</td>\n",
       "      <td>-0.044088</td>\n",
       "    </tr>\n",
       "    <tr>\n",
       "      <th>241</th>\n",
       "      <td>22.67</td>\n",
       "      <td>2.00</td>\n",
       "      <td>Male</td>\n",
       "      <td>Yes</td>\n",
       "      <td>Sat</td>\n",
       "      <td>Dinner</td>\n",
       "      <td>2</td>\n",
       "      <td>0.096759</td>\n",
       "      <td>20.67</td>\n",
       "      <td>-0.056985</td>\n",
       "    </tr>\n",
       "    <tr>\n",
       "      <th>242</th>\n",
       "      <td>17.82</td>\n",
       "      <td>1.75</td>\n",
       "      <td>Male</td>\n",
       "      <td>No</td>\n",
       "      <td>Sat</td>\n",
       "      <td>Dinner</td>\n",
       "      <td>2</td>\n",
       "      <td>0.108899</td>\n",
       "      <td>16.07</td>\n",
       "      <td>-0.083355</td>\n",
       "    </tr>\n",
       "    <tr>\n",
       "      <th>243</th>\n",
       "      <td>18.78</td>\n",
       "      <td>3.00</td>\n",
       "      <td>Female</td>\n",
       "      <td>No</td>\n",
       "      <td>Thur</td>\n",
       "      <td>Dinner</td>\n",
       "      <td>2</td>\n",
       "      <td>0.190114</td>\n",
       "      <td>15.78</td>\n",
       "      <td>-0.004923</td>\n",
       "    </tr>\n",
       "  </tbody>\n",
       "</table>\n",
       "<p>244 rows × 10 columns</p>\n",
       "</div>"
      ],
      "text/plain": [
       "     total_bill   tip     sex smoker   day    time  size   tip_pct  net_bill  \\\n",
       "0         16.99  1.01  Female     No   Sun  Dinner     2  0.063204     15.98   \n",
       "1         10.34  1.66    Male     No   Sun  Dinner     3  0.191244      8.68   \n",
       "2         21.01  3.50    Male     No   Sun  Dinner     3  0.199886     17.51   \n",
       "3         23.68  3.31    Male     No   Sun  Dinner     2  0.162494     20.37   \n",
       "4         24.59  3.61  Female     No   Sun  Dinner     4  0.172069     20.98   \n",
       "..          ...   ...     ...    ...   ...     ...   ...       ...       ...   \n",
       "239       29.03  5.92    Male     No   Sat  Dinner     3  0.256166     23.11   \n",
       "240       27.18  2.00  Female    Yes   Sat  Dinner     2  0.079428     25.18   \n",
       "241       22.67  2.00    Male    Yes   Sat  Dinner     2  0.096759     20.67   \n",
       "242       17.82  1.75    Male     No   Sat  Dinner     2  0.108899     16.07   \n",
       "243       18.78  3.00  Female     No  Thur  Dinner     2  0.190114     15.78   \n",
       "\n",
       "          res  \n",
       "0   -0.129908  \n",
       "1   -0.094947  \n",
       "2    0.020755  \n",
       "3    0.006512  \n",
       "4    0.020604  \n",
       "..        ...  \n",
       "239  0.119509  \n",
       "240 -0.044088  \n",
       "241 -0.056985  \n",
       "242 -0.083355  \n",
       "243 -0.004923  \n",
       "\n",
       "[244 rows x 10 columns]"
      ]
     },
     "execution_count": 27,
     "metadata": {},
     "output_type": "execute_result"
    }
   ],
   "source": [
    "# Ajustando em função logarítmica\n",
    "\n",
    "y = tips['tip_pct']\n",
    "x = tips['net_bill']\n",
    "\n",
    "reg2 = smf.ols('y ~ np.log(x+.1)', data = tips).fit()\n",
    "print(reg2.summary())\n",
    "tips['res'] = reg2.resid\n",
    "\n",
    "tips"
   ]
  },
  {
   "cell_type": "code",
   "execution_count": 28,
   "metadata": {},
   "outputs": [
    {
     "data": {
      "text/plain": [
       "<matplotlib.lines.Line2D at 0x27e3226be10>"
      ]
     },
     "execution_count": 28,
     "metadata": {},
     "output_type": "execute_result"
    },
    {
     "data": {
      "image/png": "[encoded data removed]",
      "text/plain": [
       "<Figure size 640x480 with 1 Axes>"
      ]
     },
     "metadata": {},
     "output_type": "display_data"
    }
   ],
   "source": [
    "sns.scatterplot(x = x, y = 'res', data = tips, alpha = .75)\n",
    "plt.axhline(y=0, color='r', linestyle='--')"
   ]
  },
  {
   "cell_type": "markdown",
   "metadata": {},
   "source": [
    "###  3. ajuste o modelo de ```tip_pct``` em função de um polinômio de segundo grau em ```net_bill```."
   ]
  },
  {
   "cell_type": "code",
   "execution_count": 29,
   "metadata": {
    "scrolled": true
   },
   "outputs": [
    {
     "name": "stdout",
     "output_type": "stream",
     "text": [
      "                            OLS Regression Results                            \n",
      "==============================================================================\n",
      "Dep. Variable:                      y   R-squared:                       0.158\n",
      "Model:                            OLS   Adj. R-squared:                  0.151\n",
      "Method:                 Least Squares   F-statistic:                     22.55\n",
      "Date:                Mon, 16 Oct 2023   Prob (F-statistic):           1.06e-09\n",
      "Time:                        07:27:49   Log-Likelihood:                 117.25\n",
      "No. Observations:                 244   AIC:                            -228.5\n",
      "Df Residuals:                     241   BIC:                            -218.0\n",
      "Df Model:                           2                                         \n",
      "Covariance Type:            nonrobust                                         \n",
      "==================================================================================\n",
      "                     coef    std err          t      P>|t|      [0.025      0.975]\n",
      "----------------------------------------------------------------------------------\n",
      "Intercept          0.4851      0.047     10.332      0.000       0.393       0.578\n",
      "x                 -0.0268      0.005     -5.477      0.000      -0.036      -0.017\n",
      "np.power(x, 2)     0.0005      0.000      4.356      0.000       0.000       0.001\n",
      "==============================================================================\n",
      "Omnibus:                      447.620   Durbin-Watson:                   2.026\n",
      "Prob(Omnibus):                  0.000   Jarque-Bera (JB):           186035.672\n",
      "Skew:                          10.140   Prob(JB):                         0.00\n",
      "Kurtosis:                     136.744   Cond. No.                     2.42e+03\n",
      "==============================================================================\n",
      "\n",
      "Notes:\n",
      "[1] Standard Errors assume that the covariance matrix of the errors is correctly specified.\n",
      "[2] The condition number is large, 2.42e+03. This might indicate that there are\n",
      "strong multicollinearity or other numerical problems.\n"
     ]
    },
    {
     "data": {
      "text/plain": [
       "<matplotlib.lines.Line2D at 0x27e325565d0>"
      ]
     },
     "execution_count": 29,
     "metadata": {},
     "output_type": "execute_result"
    },
    {
     "data": {
      "image/png": "[encoded data removed]",
      "text/plain": [
       "<Figure size 640x480 with 1 Axes>"
      ]
     },
     "metadata": {},
     "output_type": "display_data"
    }
   ],
   "source": [
    "# Ajustando em função de um polinômio de segundo grau\n",
    "\n",
    "reg3 = smf.ols('y ~ x + np.power(x,2)', data = tips).fit()\n",
    "print(reg3.summary())\n",
    "tips['res'] = reg3.resid\n",
    "\n",
    "sns.scatterplot(x = x, y = 'res', data = tips, alpha = .75)\n",
    "plt.axhline(y=0, color='r', linestyle='--')"
   ]
  },
  {
   "cell_type": "markdown",
   "metadata": {},
   "source": [
    "###  4. ajuste um modelo no log do ```tip_pct``` em função de ```net_bill```. Calcule o $R^2$ também em ```tip_pct```"
   ]
  },
  {
   "cell_type": "code",
   "execution_count": 30,
   "metadata": {
    "scrolled": true
   },
   "outputs": [
    {
     "name": "stdout",
     "output_type": "stream",
     "text": [
      "                            OLS Regression Results                            \n",
      "==============================================================================\n",
      "Dep. Variable:              np.log(y)   R-squared:                       0.235\n",
      "Model:                            OLS   Adj. R-squared:                  0.232\n",
      "Method:                 Least Squares   F-statistic:                     74.48\n",
      "Date:                Mon, 16 Oct 2023   Prob (F-statistic):           8.27e-16\n",
      "Time:                        07:27:49   Log-Likelihood:                -106.00\n",
      "No. Observations:                 244   AIC:                             216.0\n",
      "Df Residuals:                     242   BIC:                             223.0\n",
      "Df Model:                           1                                         \n",
      "Covariance Type:            nonrobust                                         \n",
      "==============================================================================\n",
      "                 coef    std err          t      P>|t|      [0.025      0.975]\n",
      "------------------------------------------------------------------------------\n",
      "Intercept     -1.2749      0.056    -22.872      0.000      -1.385      -1.165\n",
      "x             -0.0259      0.003     -8.630      0.000      -0.032      -0.020\n",
      "==============================================================================\n",
      "Omnibus:                       49.929   Durbin-Watson:                   1.938\n",
      "Prob(Omnibus):                  0.000   Jarque-Bera (JB):              258.392\n",
      "Skew:                           0.664   Prob(JB):                     7.78e-57\n",
      "Kurtosis:                       7.864   Cond. No.                         43.3\n",
      "==============================================================================\n",
      "\n",
      "Notes:\n",
      "[1] Standard Errors assume that the covariance matrix of the errors is correctly specified.\n"
     ]
    },
    {
     "data": {
      "text/plain": [
       "<matplotlib.lines.Line2D at 0x27e32531350>"
      ]
     },
     "execution_count": 30,
     "metadata": {},
     "output_type": "execute_result"
    },
    {
     "data": {
      "image/png": "[encoded data removed]",
      "text/plain": [
       "<Figure size 640x480 with 1 Axes>"
      ]
     },
     "metadata": {},
     "output_type": "display_data"
    }
   ],
   "source": [
    "reg4 = smf.ols('np.log(y) ~ x', data = tips).fit()\n",
    "print(reg4.summary())\n",
    "tips['res'] = reg4.resid\n",
    "\n",
    "sns.scatterplot(x = x, y = 'res', data = tips, alpha = .75)\n",
    "plt.axhline(y=0, color='r', linestyle='--')"
   ]
  },
  {
   "cell_type": "code",
   "execution_count": 31,
   "metadata": {},
   "outputs": [
    {
     "data": {
      "text/plain": [
       "0.11440988592529763"
      ]
     },
     "execution_count": 31,
     "metadata": {},
     "output_type": "execute_result"
    }
   ],
   "source": [
    "tips['pred_pct'] = np.exp(reg4.fittedvalues)\n",
    "\n",
    "tips[['pred_pct', 'tip_pct']].corr().iloc[0,1]**2"
   ]
  },
  {
   "cell_type": "markdown",
   "metadata": {},
   "source": [
    "###  5. ajuste um modelo no log do ```tip_pct``` em função do log de ```net_bill```. Calcule o $R^2$ também em ```tip_pct```."
   ]
  },
  {
   "cell_type": "code",
   "execution_count": 32,
   "metadata": {},
   "outputs": [
    {
     "name": "stdout",
     "output_type": "stream",
     "text": [
      "                            OLS Regression Results                            \n",
      "==============================================================================\n",
      "Dep. Variable:              np.log(y)   R-squared:                       0.293\n",
      "Model:                            OLS   Adj. R-squared:                  0.291\n",
      "Method:                 Least Squares   F-statistic:                     100.5\n",
      "Date:                Mon, 16 Oct 2023   Prob (F-statistic):           5.20e-20\n",
      "Time:                        07:27:50   Log-Likelihood:                -96.357\n",
      "No. Observations:                 244   AIC:                             196.7\n",
      "Df Residuals:                     242   BIC:                             203.7\n",
      "Df Model:                           1                                         \n",
      "Covariance Type:            nonrobust                                         \n",
      "==============================================================================\n",
      "                 coef    std err          t      P>|t|      [0.025      0.975]\n",
      "------------------------------------------------------------------------------\n",
      "Intercept     -0.3942      0.133     -2.961      0.003      -0.657      -0.132\n",
      "np.log(x)     -0.4849      0.048    -10.026      0.000      -0.580      -0.390\n",
      "==============================================================================\n",
      "Omnibus:                       12.633   Durbin-Watson:                   1.976\n",
      "Prob(Omnibus):                  0.002   Jarque-Bera (JB):               28.054\n",
      "Skew:                           0.141   Prob(JB):                     8.10e-07\n",
      "Kurtosis:                       4.637   Cond. No.                         17.9\n",
      "==============================================================================\n",
      "\n",
      "Notes:\n",
      "[1] Standard Errors assume that the covariance matrix of the errors is correctly specified.\n"
     ]
    },
    {
     "data": {
      "text/plain": [
       "<matplotlib.lines.Line2D at 0x27e3255ddd0>"
      ]
     },
     "execution_count": 32,
     "metadata": {},
     "output_type": "execute_result"
    },
    {
     "data": {
      "image/png": "[encoded data removed]",
      "text/plain": [
       "<Figure size 640x480 with 1 Axes>"
      ]
     },
     "metadata": {},
     "output_type": "display_data"
    }
   ],
   "source": [
    "reg5 = smf.ols('np.log(y) ~ np.log(x)', data = tips).fit()\n",
    "print(reg5.summary())\n",
    "tips['res'] = reg5.resid\n",
    "\n",
    "sns.scatterplot(x = x, y = 'res', data = tips, alpha = .75)\n",
    "plt.axhline(y=0, color='r', linestyle='--')"
   ]
  },
  {
   "cell_type": "code",
   "execution_count": 33,
   "metadata": {},
   "outputs": [
    {
     "data": {
      "text/plain": [
       "0.30894874740322276"
      ]
     },
     "execution_count": 33,
     "metadata": {},
     "output_type": "execute_result"
    }
   ],
   "source": [
    "tips['pred2_pct'] = np.exp(reg5.fittedvalues)\n",
    "\n",
    "tips[['pred2_pct', 'tip_pct']].corr().iloc[0,1]**2"
   ]
  },
  {
   "cell_type": "markdown",
   "metadata": {},
   "source": [
    "###  6. qual modelo resultou no melhor ajuste?"
   ]
  },
  {
   "cell_type": "markdown",
   "metadata": {},
   "source": [
    "O modelo com log da porcentagem da gorjeta (tip_pct) com log do valor da conta (net_bill) resultou no melhor ajuste - maior valor de R² (coeficiente de determinação), e a distribuição dos erros ficou mais homogênea."
   ]
  }
 ],
 "metadata": {
  "kernelspec": {
   "display_name": "Python 3 (ipykernel)",
   "language": "python",
   "name": "python3"
  },
  "language_info": {
   "codemirror_mode": {
    "name": "ipython",
    "version": 3
   },
   "file_extension": ".py",
   "mimetype": "text/x-python",
   "name": "python",
   "nbconvert_exporter": "python",
   "pygments_lexer": "ipython3",
   "version": "3.11.5"
  }
 },
 "nbformat": 4,
 "nbformat_minor": 4
}
