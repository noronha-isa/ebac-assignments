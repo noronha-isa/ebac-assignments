{
 "cells": [
  {
   "cell_type": "markdown",
   "metadata": {},
   "source": [
    "# Tarefa 03\n",
    "\n",
    "- Leia os enunciados com atenção\n",
    "- Saiba que pode haver mais de uma resposta correta\n",
    "- Insira novas células de código sempre que achar necessário\n",
    "- Em caso de dúvidas, procure os Tutores\n",
    "- Divirta-se :)"
   ]
  },
  {
   "cell_type": "code",
   "execution_count": 15,
   "metadata": {},
   "outputs": [],
   "source": [
    "import pandas as pd\n",
    "import requests"
   ]
  },
  {
   "cell_type": "markdown",
   "metadata": {},
   "source": [
    "####  1) Lendo de APIs\n",
    "Vimos em aula como carregar dados públicos do governo através de um API (*Application Programming Interface*). No exemplo de aula, baixamos os dados de pedidos de verificação de limites (PVL) realizados por estados, e selecionamos apenas aqueles referentes ao estado de São Paulo.\n",
    "\n",
    "1. Repita os mesmos passos feitos em aula, mas selecione os PVLs realizados por municípios no estado do Rio de Janeiro.\n",
    "2. Quais são os três *status* das solicitações mais frequentes na base? Quais são suas frequências?\n",
    "3. Construa uma nova variável que contenha o ano do **status**. Observe que ```data_status``` vem como tipo *object* no **DataFrame**. Dica: você pode usar o método ```.str``` para transformar o tipo da variável em string, em seguida um método como [**slice()**](https://pandas.pydata.org/docs/reference/api/pandas.Series.str.slice.html) ou [**split()**](https://pandas.pydata.org/pandas-docs/stable/reference/api/pandas.Series.str.split.html).\n",
    "4. Indique a frequência de cada ano do campo construído no item (3)."
   ]
  },
  {
   "cell_type": "code",
   "execution_count": 11,
   "metadata": {},
   "outputs": [],
   "source": [
    "# 1) PVLs realizados por municípios no estado do RJ\n",
    "url = 'https://apidatalake.tesouro.gov.br/ords/sadipem/tt/pvl?uf=RJ&tipo_interessado=Munic%C3%ADpio'"
   ]
  },
  {
   "cell_type": "code",
   "execution_count": 12,
   "metadata": {},
   "outputs": [],
   "source": [
    "r = requests.get(url)"
   ]
  },
  {
   "cell_type": "code",
   "execution_count": 13,
   "metadata": {},
   "outputs": [],
   "source": [
    "data_json = r.json()"
   ]
  },
  {
   "cell_type": "code",
   "execution_count": 14,
   "metadata": {},
   "outputs": [
    {
     "data": {
      "text/html": [
       "<div>\n",
       "<style scoped>\n",
       "    .dataframe tbody tr th:only-of-type {\n",
       "        vertical-align: middle;\n",
       "    }\n",
       "\n",
       "    .dataframe tbody tr th {\n",
       "        vertical-align: top;\n",
       "    }\n",
       "\n",
       "    .dataframe thead th {\n",
       "        text-align: right;\n",
       "    }\n",
       "</style>\n",
       "<table border=\"1\" class=\"dataframe\">\n",
       "  <thead>\n",
       "    <tr style=\"text-align: right;\">\n",
       "      <th></th>\n",
       "      <th>id_pleito</th>\n",
       "      <th>tipo_interessado</th>\n",
       "      <th>interessado</th>\n",
       "      <th>cod_ibge</th>\n",
       "      <th>uf</th>\n",
       "      <th>num_pvl</th>\n",
       "      <th>status</th>\n",
       "      <th>num_processo</th>\n",
       "      <th>data_protocolo</th>\n",
       "      <th>tipo_operacao</th>\n",
       "      <th>finalidade</th>\n",
       "      <th>tipo_credor</th>\n",
       "      <th>credor</th>\n",
       "      <th>moeda</th>\n",
       "      <th>valor</th>\n",
       "      <th>pvl_assoc_divida</th>\n",
       "      <th>pvl_contradado_credor</th>\n",
       "      <th>data_status</th>\n",
       "    </tr>\n",
       "  </thead>\n",
       "  <tbody>\n",
       "    <tr>\n",
       "      <th>0</th>\n",
       "      <td>8454</td>\n",
       "      <td>Município</td>\n",
       "      <td>Petrópolis</td>\n",
       "      <td>3303906</td>\n",
       "      <td>RJ</td>\n",
       "      <td>None</td>\n",
       "      <td>Deferido</td>\n",
       "      <td>17944.000778/2014-75</td>\n",
       "      <td>2014-07-18T03:00:00Z</td>\n",
       "      <td>Operação contratual interna</td>\n",
       "      <td>Aquisição de máquinas, equipamentos e veículos</td>\n",
       "      <td>Instituição Financeira Nacional</td>\n",
       "      <td>Agência de Fomento do Estado do Rio de Janeiro</td>\n",
       "      <td>Real</td>\n",
       "      <td>9.215160e+06</td>\n",
       "      <td>1</td>\n",
       "      <td>0</td>\n",
       "      <td>18/08/2014</td>\n",
       "    </tr>\n",
       "    <tr>\n",
       "      <th>1</th>\n",
       "      <td>10095</td>\n",
       "      <td>Município</td>\n",
       "      <td>Angra dos Reis</td>\n",
       "      <td>3300100</td>\n",
       "      <td>RJ</td>\n",
       "      <td>None</td>\n",
       "      <td>Arquivado</td>\n",
       "      <td>17944.001119/2008-16</td>\n",
       "      <td>2009-03-09T03:00:00Z</td>\n",
       "      <td>Operação contratual interna</td>\n",
       "      <td>Caminho da Escola 2</td>\n",
       "      <td>Instituição Financeira Nacional</td>\n",
       "      <td>Banco do Brasil S/A</td>\n",
       "      <td>Real</td>\n",
       "      <td>5.700000e+05</td>\n",
       "      <td>0</td>\n",
       "      <td>0</td>\n",
       "      <td>12/03/2009</td>\n",
       "    </tr>\n",
       "    <tr>\n",
       "      <th>2</th>\n",
       "      <td>10266</td>\n",
       "      <td>Município</td>\n",
       "      <td>Armação dos Búzios</td>\n",
       "      <td>3300233</td>\n",
       "      <td>RJ</td>\n",
       "      <td>None</td>\n",
       "      <td>Regularizado</td>\n",
       "      <td>17944.001158/2009-96</td>\n",
       "      <td>2010-04-12T03:00:00Z</td>\n",
       "      <td>Operação contratual interna</td>\n",
       "      <td>Regularização de Dívida - Energia Elétrica</td>\n",
       "      <td>Empresa Não Estatal</td>\n",
       "      <td>Ampla Energia e Serviços S/A</td>\n",
       "      <td>Real</td>\n",
       "      <td>1.208047e+06</td>\n",
       "      <td>0</td>\n",
       "      <td>0</td>\n",
       "      <td>10/05/2010</td>\n",
       "    </tr>\n",
       "    <tr>\n",
       "      <th>3</th>\n",
       "      <td>5054</td>\n",
       "      <td>Município</td>\n",
       "      <td>Duque de Caxias</td>\n",
       "      <td>3301702</td>\n",
       "      <td>RJ</td>\n",
       "      <td>None</td>\n",
       "      <td>Deferido</td>\n",
       "      <td>17944.000031/2008-79</td>\n",
       "      <td>2008-03-27T03:00:00Z</td>\n",
       "      <td>Operação contratual interna</td>\n",
       "      <td>PAC - Pró-Moradia - 2008</td>\n",
       "      <td>Instituição Financeira Nacional</td>\n",
       "      <td>Caixa Econômica Federal</td>\n",
       "      <td>Real</td>\n",
       "      <td>3.990000e+07</td>\n",
       "      <td>0</td>\n",
       "      <td>0</td>\n",
       "      <td>28/03/2008</td>\n",
       "    </tr>\n",
       "    <tr>\n",
       "      <th>4</th>\n",
       "      <td>12870</td>\n",
       "      <td>Município</td>\n",
       "      <td>Niterói</td>\n",
       "      <td>3303302</td>\n",
       "      <td>RJ</td>\n",
       "      <td>None</td>\n",
       "      <td>Encaminhado à PGFN com manifestação técnica fa...</td>\n",
       "      <td>17944.001832/2014-08</td>\n",
       "      <td>2016-03-16T03:00:00Z</td>\n",
       "      <td>Operação contratual externa (com garantia da U...</td>\n",
       "      <td>Desenvolvimento sustentável</td>\n",
       "      <td>Instituição Financeira Internacional</td>\n",
       "      <td>Corporação Andina de Fomento</td>\n",
       "      <td>Dólar dos EUA</td>\n",
       "      <td>1.000000e+08</td>\n",
       "      <td>0</td>\n",
       "      <td>0</td>\n",
       "      <td>28/03/2016</td>\n",
       "    </tr>\n",
       "    <tr>\n",
       "      <th>...</th>\n",
       "      <td>...</td>\n",
       "      <td>...</td>\n",
       "      <td>...</td>\n",
       "      <td>...</td>\n",
       "      <td>...</td>\n",
       "      <td>...</td>\n",
       "      <td>...</td>\n",
       "      <td>...</td>\n",
       "      <td>...</td>\n",
       "      <td>...</td>\n",
       "      <td>...</td>\n",
       "      <td>...</td>\n",
       "      <td>...</td>\n",
       "      <td>...</td>\n",
       "      <td>...</td>\n",
       "      <td>...</td>\n",
       "      <td>...</td>\n",
       "      <td>...</td>\n",
       "    </tr>\n",
       "    <tr>\n",
       "      <th>232</th>\n",
       "      <td>27100</td>\n",
       "      <td>Município</td>\n",
       "      <td>Rio de Janeiro</td>\n",
       "      <td>3304557</td>\n",
       "      <td>RJ</td>\n",
       "      <td>PVL02.002429/2017-78</td>\n",
       "      <td>Arquivado por decurso de prazo</td>\n",
       "      <td>17944.103668/2017-15</td>\n",
       "      <td>2018-07-31T21:50:09Z</td>\n",
       "      <td>Operação contratual interna</td>\n",
       "      <td>Infraestrutura</td>\n",
       "      <td>Instituição Financeira Nacional</td>\n",
       "      <td>Caixa Econômica Federal</td>\n",
       "      <td>Real</td>\n",
       "      <td>1.000000e+08</td>\n",
       "      <td>0</td>\n",
       "      <td>0</td>\n",
       "      <td>07/01/2019</td>\n",
       "    </tr>\n",
       "    <tr>\n",
       "      <th>233</th>\n",
       "      <td>11202</td>\n",
       "      <td>Município</td>\n",
       "      <td>Rio de Janeiro</td>\n",
       "      <td>3304557</td>\n",
       "      <td>RJ</td>\n",
       "      <td>None</td>\n",
       "      <td>Encaminhado à PGFN com manifestação técnica fa...</td>\n",
       "      <td>17944.001383/2012-28</td>\n",
       "      <td>2013-07-19T03:00:00Z</td>\n",
       "      <td>Operação contratual externa (com garantia da U...</td>\n",
       "      <td>Multissetorial</td>\n",
       "      <td>Instituição Financeira Internacional</td>\n",
       "      <td>Banco Internacional para Reconstrução e Desenv...</td>\n",
       "      <td>Dólar dos EUA</td>\n",
       "      <td>1.620000e+07</td>\n",
       "      <td>1</td>\n",
       "      <td>0</td>\n",
       "      <td>13/08/2013</td>\n",
       "    </tr>\n",
       "    <tr>\n",
       "      <th>234</th>\n",
       "      <td>32249</td>\n",
       "      <td>Município</td>\n",
       "      <td>Queimados</td>\n",
       "      <td>3304144</td>\n",
       "      <td>RJ</td>\n",
       "      <td>PVL02.001397/2019-55</td>\n",
       "      <td>Em retificação pelo interessado (PVL-IF)</td>\n",
       "      <td>None</td>\n",
       "      <td>None</td>\n",
       "      <td>Operação contratual interna</td>\n",
       "      <td>Infraestrutura</td>\n",
       "      <td>Instituição Financeira Nacional</td>\n",
       "      <td>Caixa Econômica Federal</td>\n",
       "      <td>Real</td>\n",
       "      <td>5.000000e+06</td>\n",
       "      <td>0</td>\n",
       "      <td>0</td>\n",
       "      <td>06/09/2019</td>\n",
       "    </tr>\n",
       "    <tr>\n",
       "      <th>235</th>\n",
       "      <td>33609</td>\n",
       "      <td>Município</td>\n",
       "      <td>Vassouras</td>\n",
       "      <td>3306206</td>\n",
       "      <td>RJ</td>\n",
       "      <td>PVL02.002481/2019-96</td>\n",
       "      <td>Deferido</td>\n",
       "      <td>17944.102288/2019-17</td>\n",
       "      <td>2019-07-29T17:06:25Z</td>\n",
       "      <td>Operação contratual interna</td>\n",
       "      <td>Infraestrutura</td>\n",
       "      <td>Instituição Financeira Nacional</td>\n",
       "      <td>Caixa Econômica Federal</td>\n",
       "      <td>Real</td>\n",
       "      <td>4.050000e+07</td>\n",
       "      <td>0</td>\n",
       "      <td>1</td>\n",
       "      <td>31/07/2019</td>\n",
       "    </tr>\n",
       "    <tr>\n",
       "      <th>236</th>\n",
       "      <td>12602</td>\n",
       "      <td>Município</td>\n",
       "      <td>Vassouras</td>\n",
       "      <td>3306206</td>\n",
       "      <td>RJ</td>\n",
       "      <td>None</td>\n",
       "      <td>Arquivado</td>\n",
       "      <td>17944.001723/2008-34</td>\n",
       "      <td>2008-07-10T03:00:00Z</td>\n",
       "      <td>Operação contratual interna</td>\n",
       "      <td>Caminho da Escola</td>\n",
       "      <td>Instituição Financeira Nacional</td>\n",
       "      <td>Caixa Econômica Federal</td>\n",
       "      <td>Real</td>\n",
       "      <td>1.029900e+06</td>\n",
       "      <td>0</td>\n",
       "      <td>0</td>\n",
       "      <td>29/07/2008</td>\n",
       "    </tr>\n",
       "  </tbody>\n",
       "</table>\n",
       "<p>237 rows × 18 columns</p>\n",
       "</div>"
      ],
      "text/plain": [
       "     id_pleito tipo_interessado         interessado  cod_ibge  uf  \\\n",
       "0         8454        Município          Petrópolis   3303906  RJ   \n",
       "1        10095        Município      Angra dos Reis   3300100  RJ   \n",
       "2        10266        Município  Armação dos Búzios   3300233  RJ   \n",
       "3         5054        Município     Duque de Caxias   3301702  RJ   \n",
       "4        12870        Município             Niterói   3303302  RJ   \n",
       "..         ...              ...                 ...       ...  ..   \n",
       "232      27100        Município      Rio de Janeiro   3304557  RJ   \n",
       "233      11202        Município      Rio de Janeiro   3304557  RJ   \n",
       "234      32249        Município           Queimados   3304144  RJ   \n",
       "235      33609        Município           Vassouras   3306206  RJ   \n",
       "236      12602        Município           Vassouras   3306206  RJ   \n",
       "\n",
       "                  num_pvl                                             status  \\\n",
       "0                    None                                           Deferido   \n",
       "1                    None                                          Arquivado   \n",
       "2                    None                                       Regularizado   \n",
       "3                    None                                           Deferido   \n",
       "4                    None  Encaminhado à PGFN com manifestação técnica fa...   \n",
       "..                    ...                                                ...   \n",
       "232  PVL02.002429/2017-78                     Arquivado por decurso de prazo   \n",
       "233                  None  Encaminhado à PGFN com manifestação técnica fa...   \n",
       "234  PVL02.001397/2019-55           Em retificação pelo interessado (PVL-IF)   \n",
       "235  PVL02.002481/2019-96                                           Deferido   \n",
       "236                  None                                          Arquivado   \n",
       "\n",
       "             num_processo        data_protocolo  \\\n",
       "0    17944.000778/2014-75  2014-07-18T03:00:00Z   \n",
       "1    17944.001119/2008-16  2009-03-09T03:00:00Z   \n",
       "2    17944.001158/2009-96  2010-04-12T03:00:00Z   \n",
       "3    17944.000031/2008-79  2008-03-27T03:00:00Z   \n",
       "4    17944.001832/2014-08  2016-03-16T03:00:00Z   \n",
       "..                    ...                   ...   \n",
       "232  17944.103668/2017-15  2018-07-31T21:50:09Z   \n",
       "233  17944.001383/2012-28  2013-07-19T03:00:00Z   \n",
       "234                  None                  None   \n",
       "235  17944.102288/2019-17  2019-07-29T17:06:25Z   \n",
       "236  17944.001723/2008-34  2008-07-10T03:00:00Z   \n",
       "\n",
       "                                         tipo_operacao  \\\n",
       "0                          Operação contratual interna   \n",
       "1                          Operação contratual interna   \n",
       "2                          Operação contratual interna   \n",
       "3                          Operação contratual interna   \n",
       "4    Operação contratual externa (com garantia da U...   \n",
       "..                                                 ...   \n",
       "232                        Operação contratual interna   \n",
       "233  Operação contratual externa (com garantia da U...   \n",
       "234                        Operação contratual interna   \n",
       "235                        Operação contratual interna   \n",
       "236                        Operação contratual interna   \n",
       "\n",
       "                                         finalidade  \\\n",
       "0    Aquisição de máquinas, equipamentos e veículos   \n",
       "1                               Caminho da Escola 2   \n",
       "2        Regularização de Dívida - Energia Elétrica   \n",
       "3                          PAC - Pró-Moradia - 2008   \n",
       "4                       Desenvolvimento sustentável   \n",
       "..                                              ...   \n",
       "232                                  Infraestrutura   \n",
       "233                                  Multissetorial   \n",
       "234                                  Infraestrutura   \n",
       "235                                  Infraestrutura   \n",
       "236                               Caminho da Escola   \n",
       "\n",
       "                              tipo_credor  \\\n",
       "0         Instituição Financeira Nacional   \n",
       "1         Instituição Financeira Nacional   \n",
       "2                     Empresa Não Estatal   \n",
       "3         Instituição Financeira Nacional   \n",
       "4    Instituição Financeira Internacional   \n",
       "..                                    ...   \n",
       "232       Instituição Financeira Nacional   \n",
       "233  Instituição Financeira Internacional   \n",
       "234       Instituição Financeira Nacional   \n",
       "235       Instituição Financeira Nacional   \n",
       "236       Instituição Financeira Nacional   \n",
       "\n",
       "                                                credor          moeda  \\\n",
       "0       Agência de Fomento do Estado do Rio de Janeiro           Real   \n",
       "1                                  Banco do Brasil S/A           Real   \n",
       "2                         Ampla Energia e Serviços S/A           Real   \n",
       "3                              Caixa Econômica Federal           Real   \n",
       "4                         Corporação Andina de Fomento  Dólar dos EUA   \n",
       "..                                                 ...            ...   \n",
       "232                            Caixa Econômica Federal           Real   \n",
       "233  Banco Internacional para Reconstrução e Desenv...  Dólar dos EUA   \n",
       "234                            Caixa Econômica Federal           Real   \n",
       "235                            Caixa Econômica Federal           Real   \n",
       "236                            Caixa Econômica Federal           Real   \n",
       "\n",
       "            valor  pvl_assoc_divida  pvl_contradado_credor data_status  \n",
       "0    9.215160e+06                 1                      0  18/08/2014  \n",
       "1    5.700000e+05                 0                      0  12/03/2009  \n",
       "2    1.208047e+06                 0                      0  10/05/2010  \n",
       "3    3.990000e+07                 0                      0  28/03/2008  \n",
       "4    1.000000e+08                 0                      0  28/03/2016  \n",
       "..            ...               ...                    ...         ...  \n",
       "232  1.000000e+08                 0                      0  07/01/2019  \n",
       "233  1.620000e+07                 1                      0  13/08/2013  \n",
       "234  5.000000e+06                 0                      0  06/09/2019  \n",
       "235  4.050000e+07                 0                      1  31/07/2019  \n",
       "236  1.029900e+06                 0                      0  29/07/2008  \n",
       "\n",
       "[237 rows x 18 columns]"
      ]
     },
     "execution_count": 14,
     "metadata": {},
     "output_type": "execute_result"
    }
   ],
   "source": [
    "df_rj = pd.DataFrame(data_json['items'])\n",
    "df_rj"
   ]
  },
  {
   "cell_type": "code",
   "execution_count": 21,
   "metadata": {},
   "outputs": [
    {
     "ename": "NameError",
     "evalue": "name 'df_rj' is not defined",
     "output_type": "error",
     "traceback": [
      "\u001b[1;31m---------------------------------------------------------------------------\u001b[0m",
      "\u001b[1;31mNameError\u001b[0m                                 Traceback (most recent call last)",
      "\u001b[1;32m<ipython-input-21-15b277696bd8>\u001b[0m in \u001b[0;36m<module>\u001b[1;34m\u001b[0m\n\u001b[1;32m----> 1\u001b[1;33m \u001b[0mPVL_municipios\u001b[0m \u001b[1;33m=\u001b[0m \u001b[0mdf_rj\u001b[0m\u001b[1;33m[\u001b[0m\u001b[1;34m'interessado'\u001b[0m\u001b[1;33m]\u001b[0m\u001b[1;33m.\u001b[0m\u001b[0mvalue_counts\u001b[0m\u001b[1;33m(\u001b[0m\u001b[1;33m)\u001b[0m\u001b[1;33m\u001b[0m\u001b[1;33m\u001b[0m\u001b[0m\n\u001b[0m",
      "\u001b[1;31mNameError\u001b[0m: name 'df_rj' is not defined"
     ]
    }
   ],
   "source": [
    "PVL_municipios = df_rj['interessado'].value_counts()"
   ]
  },
  {
   "cell_type": "code",
   "execution_count": 19,
   "metadata": {},
   "outputs": [
    {
     "data": {
      "text/plain": [
       "Deferido                                                 94\n",
       "Arquivado                                                53\n",
       "Regularizado                                             25\n",
       "Arquivado por decurso de prazo                           24\n",
       "Deferido (PVL-IF)                                        16\n",
       "Encaminhado à PGFN com manifestação técnica favorável    14\n",
       "Arquivado a pedido                                        6\n",
       "Em análise                                                1\n",
       "Em retificação pelo interessado                           1\n",
       "Em retificação pelo credor                                1\n",
       "Em retificação pelo interessado (PVL-IF)                  1\n",
       "Processo pendente de distribuição                         1\n",
       "Name: status, dtype: int64"
      ]
     },
     "execution_count": 19,
     "metadata": {},
     "output_type": "execute_result"
    }
   ],
   "source": [
    "# 2) Três status das solicitações mais frequentes\n",
    "\n",
    "df_rj.status.explode().value_counts()\n",
    "\n",
    "# Os três status mais frequentes são 'Deferido', 'Arquivado', e 'Regularizado'"
   ]
  },
  {
   "cell_type": "code",
   "execution_count": 21,
   "metadata": {},
   "outputs": [
    {
     "data": {
      "text/plain": [
       "0      2014\n",
       "1      2009\n",
       "2      2010\n",
       "3      2008\n",
       "4      2016\n",
       "       ... \n",
       "232    2018\n",
       "233    2013\n",
       "234    None\n",
       "235    2019\n",
       "236    2008\n",
       "Name: data_protocolo, Length: 237, dtype: object"
      ]
     },
     "execution_count": 21,
     "metadata": {},
     "output_type": "execute_result"
    }
   ],
   "source": [
    "# 3) Ano do status\n",
    "\n",
    "ano_status = df_rj['data_protocolo'].str.slice(stop=4)\n",
    "ano_status"
   ]
  },
  {
   "cell_type": "code",
   "execution_count": null,
   "metadata": {},
   "outputs": [],
   "source": [
    "# 4)Frequencia de cada ano"
   ]
  },
  {
   "cell_type": "code",
   "execution_count": 23,
   "metadata": {},
   "outputs": [
    {
     "data": {
      "text/plain": [
       "2008    40\n",
       "2007    25\n",
       "2014    23\n",
       "2010    18\n",
       "2012    15\n",
       "2011    13\n",
       "2013    12\n",
       "2020    12\n",
       "2022    11\n",
       "2009     7\n",
       "2006     7\n",
       "2018     7\n",
       "2002     5\n",
       "2016     4\n",
       "2021     4\n",
       "2017     4\n",
       "2019     4\n",
       "2015     3\n",
       "2023     3\n",
       "2005     2\n",
       "2004     1\n",
       "Name: data_protocolo, dtype: int64"
      ]
     },
     "execution_count": 23,
     "metadata": {},
     "output_type": "execute_result"
    }
   ],
   "source": [
    "freq_ano = ano_status.value_counts()\n",
    "freq_ano"
   ]
  },
  {
   "cell_type": "code",
   "execution_count": null,
   "metadata": {},
   "outputs": [],
   "source": []
  },
  {
   "cell_type": "markdown",
   "metadata": {},
   "source": [
    "####  2) Melhorando a interação com o API\n",
    "Observe dois URLs de consultas diferentes, por exemplo o URL utilizado em aula, e o URL feito no exercício anterior. Compare-os e observe as diferenças.\n",
    "\n",
    "1. Faça uma função em Python que recebe como argumento o UF da consulta e o tipo de interessado (```'Estado'```ou ```Município```), e que devolve os dados da consulta no formato *DataFrame*.\n",
    "2. Quantas solicitações para o Estado podem ser consultadas para Minas Gerais com *status* em 'Arquivado por decurso de prazo' estão registradas?\n",
    "3. Qual é o município da Bahia com mais solicitações deferidas?\n",
    "4. Salve um arquivo .csv com os dados de solicitações da Bahia, com interessado = 'Estado'"
   ]
  },
  {
   "cell_type": "code",
   "execution_count": 5,
   "metadata": {},
   "outputs": [],
   "source": [
    "url_1 = 'https://apidatalake.tesouro.gov.br/ords/sadipem/tt/pvl?uf=RJ&tipo_interessado=Munic%C3%ADpio'\n",
    "url_2 = 'https://apidatalake.tesouro.gov.br/ords/sadipem/tt/pvl?uf=RJ&tipo_interessado=Estado'"
   ]
  },
  {
   "cell_type": "code",
   "execution_count": 6,
   "metadata": {},
   "outputs": [],
   "source": [
    "# Função que recebe o argumento UF"
   ]
  },
  {
   "cell_type": "code",
   "execution_count": 11,
   "metadata": {},
   "outputs": [
    {
     "data": {
      "text/plain": [
       "57"
      ]
     },
     "execution_count": 11,
     "metadata": {},
     "output_type": "execute_result"
    }
   ],
   "source": [
    "soma = -1\n",
    "\n",
    "for i in url_1:\n",
    "    soma = soma + 1\n",
    "    if i == '=':\n",
    "        break\n",
    "    else:\n",
    "        continue\n",
    "soma"
   ]
  },
  {
   "cell_type": "code",
   "execution_count": 23,
   "metadata": {},
   "outputs": [],
   "source": [
    "#1) Função\n",
    "\n",
    "def consulta (uf, tipo):\n",
    "    if tipo == 'Município':\n",
    "        url = url_1\n",
    "    else:\n",
    "        url = url_2\n",
    "    \n",
    "    n_url = url[:58] + uf + url[60:]\n",
    "    \n",
    "    r = requests.get(n_url)\n",
    "    data_json = r.json()\n",
    "    df = pd.DataFrame(data_json['items'])\n",
    "\n",
    "    return df\n",
    "    \n",
    "    "
   ]
  },
  {
   "cell_type": "code",
   "execution_count": 27,
   "metadata": {},
   "outputs": [],
   "source": [
    "df_MG = consulta ('MG', 'Município')\n"
   ]
  },
  {
   "cell_type": "code",
   "execution_count": 32,
   "metadata": {},
   "outputs": [
    {
     "data": {
      "text/plain": [
       "False    4028\n",
       "True      298\n",
       "Name: status, dtype: int64"
      ]
     },
     "execution_count": 32,
     "metadata": {},
     "output_type": "execute_result"
    }
   ],
   "source": [
    "# 2) Status MG\n",
    "\n",
    "status_MG = df_MG['status'] == 'Arquivado por decurso de prazo'\n",
    "status_MG.value_counts()\n",
    "\n",
    "# 298"
   ]
  },
  {
   "cell_type": "code",
   "execution_count": 37,
   "metadata": {},
   "outputs": [
    {
     "data": {
      "text/plain": [
       "Luís Eduardo Magalhães    14\n",
       "Vitória da Conquista      11\n",
       "Camaçari                  10\n",
       "Lauro de Freitas          10\n",
       "Barreiras                  9\n",
       "                          ..\n",
       "Pedrão                     1\n",
       "Sebastião Laranjeiras      1\n",
       "Jeremoabo                  1\n",
       "Xique-Xique                1\n",
       "Alcobaça                   1\n",
       "Name: interessado, Length: 177, dtype: int64"
      ]
     },
     "execution_count": 37,
     "metadata": {},
     "output_type": "execute_result"
    }
   ],
   "source": [
    "# 3) Municipios Bahia\n",
    "\n",
    "df_BA = consulta('BA', 'Município')\n",
    "\n",
    "df_BA.loc[df_BA['status'] == 'Deferido', 'interessado'].value_counts()\n",
    "\n",
    "#Luís Eduardo Magalhães"
   ]
  },
  {
   "cell_type": "code",
   "execution_count": 39,
   "metadata": {},
   "outputs": [],
   "source": [
    "# 4) Salvando em .csv\n",
    "\n",
    "df_BA_estado = consulta('BA', 'Estado')\n",
    "df_BA_estado.to_csv('PVL_BA_Estado.csv') #Salvo na mesma pasta que meus exercícios"
   ]
  },
  {
   "cell_type": "code",
   "execution_count": null,
   "metadata": {},
   "outputs": [],
   "source": []
  }
 ],
 "metadata": {
  "kernelspec": {
   "display_name": "Python 3",
   "language": "python",
   "name": "python3"
  },
  "language_info": {
   "codemirror_mode": {
    "name": "ipython",
    "version": 3
   },
   "file_extension": ".py",
   "mimetype": "text/x-python",
   "name": "python",
   "nbconvert_exporter": "python",
   "pygments_lexer": "ipython3",
   "version": "3.8.8"
  }
 },
 "nbformat": 4,
 "nbformat_minor": 4
}
